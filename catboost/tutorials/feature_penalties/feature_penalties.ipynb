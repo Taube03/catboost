{
 "cells": [
  {
   "cell_type": "markdown",
   "metadata": {},
   "source": [
    "# Feature penalties tutotial"
   ]
  },
  {
   "cell_type": "markdown",
   "metadata": {},
   "source": [
    "[Cost efficient gradient boosting](https://papers.nips.cc/paper/6753-cost-efficient-gradient-boosting.pdf) is supposed to build models with less applying time. It's achieved due to less usage of expensive-to-compute features. Feature computation time is specified through *per-object-feature-penalties* and *first-feature-use-penalties* (if feature is computed once for all objects) parameters. You can scale all feature penalties at once through *penalties-coefficient* param."
   ]
  },
  {
   "cell_type": "markdown",
   "metadata": {},
   "source": [
    "Let's create a synthetic dataset to demonstrate feature penalties influence."
   ]
  },
  {
   "cell_type": "code",
   "execution_count": 1,
   "metadata": {},
   "outputs": [],
   "source": [
    "import numpy as np\n",
    "import sklearn\n",
    "import catboost\n",
    "import lightgbm"
   ]
  },
  {
   "cell_type": "code",
   "execution_count": 2,
   "metadata": {},
   "outputs": [],
   "source": [
    "seed = 33\n",
    "np.random.seed(seed)"
   ]
  },
  {
   "cell_type": "markdown",
   "metadata": {},
   "source": [
    "CEGB claims to produce trees with deep branches but low expected depth and feature cost, so let's try to build it."
   ]
  },
  {
   "cell_type": "markdown",
   "metadata": {},
   "source": [
    "Let's create a synthetic dataset for classification. Each next feature is supposed to be more costly than previous. Half of the dataset data label depends on the first feature, half of the rest data label depends on the second feature and so on. So a perfect model would use only *n_features* splits with each feature. "
   ]
  },
  {
   "cell_type": "code",
   "execution_count": 3,
   "metadata": {},
   "outputs": [],
   "source": [
    "def generate_dataset(n_objects, n_features):\n",
    "    X = np.random.rand(n_objects, n_features)\n",
    "    y = np.zeros(n_objects, dtype=int)\n",
    "    half_len = n_objects // 2\n",
    "    \n",
    "    def get_target(lvl):\n",
    "        return 0 if lvl % 2 else 1\n",
    "    \n",
    "    for lvl in range(n_features):\n",
    "        X[:half_len, lvl] = X[:half_len, lvl] / 2\n",
    "        X[half_len:2*half_len, lvl] = X[half_len:2*half_len, lvl] / 2 + 0.5\n",
    "        y[half_len:2*half_len] = get_target(lvl)\n",
    "        half_len //= 2\n",
    "    half_len *= 2\n",
    "    y[:half_len] = get_target(n_features)\n",
    "    X, y = sklearn.utils.shuffle(X, y, random_state=seed)\n",
    "    return catboost.Pool(X, y, cat_features=[], feature_names=list(map(str, range(n_features))))"
   ]
  },
  {
   "cell_type": "code",
   "execution_count": 4,
   "metadata": {},
   "outputs": [],
   "source": [
    "n_objects_small=2**13\n",
    "n_features_small=3"
   ]
  },
  {
   "cell_type": "code",
   "execution_count": 5,
   "metadata": {},
   "outputs": [],
   "source": [
    "small_pool = generate_dataset(n_objects_small, n_features_small)"
   ]
  },
  {
   "cell_type": "code",
   "execution_count": 6,
   "metadata": {},
   "outputs": [],
   "source": [
    "iterations_count=10"
   ]
  },
  {
   "cell_type": "code",
   "execution_count": 7,
   "metadata": {},
   "outputs": [],
   "source": [
    "common_params = {\n",
    "    'random_seed': seed,\n",
    "    'grow_policy': 'Lossguide',\n",
    "    'objective': 'Logloss',\n",
    "}"
   ]
  },
  {
   "cell_type": "code",
   "execution_count": 8,
   "metadata": {},
   "outputs": [],
   "source": [
    "clf_wo_penalties = catboost.CatBoostClassifier(\n",
    "    **common_params,\n",
    "    depth=n_features_small,\n",
    "    iterations=iterations_count\n",
    ")"
   ]
  },
  {
   "cell_type": "code",
   "execution_count": 9,
   "metadata": {},
   "outputs": [
    {
     "name": "stdout",
     "output_type": "stream",
     "text": [
      "Learning rate set to 0.5\n",
      "0:\tlearn: 0.3269160\ttotal: 69.3ms\tremaining: 624ms\n",
      "1:\tlearn: 0.1830209\ttotal: 88ms\tremaining: 352ms\n",
      "2:\tlearn: 0.1074017\ttotal: 108ms\tremaining: 251ms\n",
      "3:\tlearn: 0.0645294\ttotal: 128ms\tremaining: 192ms\n",
      "4:\tlearn: 0.0401535\ttotal: 148ms\tremaining: 148ms\n",
      "5:\tlearn: 0.0257087\ttotal: 167ms\tremaining: 111ms\n",
      "6:\tlearn: 0.0172086\ttotal: 186ms\tremaining: 79.8ms\n",
      "7:\tlearn: 0.0115311\ttotal: 206ms\tremaining: 51.5ms\n",
      "8:\tlearn: 0.0081579\ttotal: 226ms\tremaining: 25.1ms\n",
      "9:\tlearn: 0.0066731\ttotal: 246ms\tremaining: 0us\n"
     ]
    },
    {
     "data": {
      "text/plain": [
       "<catboost.core.CatBoostClassifier at 0x7f24539ce650>"
      ]
     },
     "execution_count": 9,
     "metadata": {},
     "output_type": "execute_result"
    }
   ],
   "source": [
    "clf_wo_penalties.fit(small_pool)"
   ]
  },
  {
   "cell_type": "code",
   "execution_count": 10,
   "metadata": {},
   "outputs": [
    {
     "data": {
      "image/svg+xml": [
       "<?xml version=\"1.0\" encoding=\"UTF-8\" standalone=\"no\"?>\n",
       "<!DOCTYPE svg PUBLIC \"-//W3C//DTD SVG 1.1//EN\"\n",
       " \"http://www.w3.org/Graphics/SVG/1.1/DTD/svg11.dtd\">\n",
       "<!-- Generated by graphviz version 2.40.1 (20161225.0304)\n",
       " -->\n",
       "<!-- Title: %3 Pages: 1 -->\n",
       "<svg width=\"965pt\" height=\"305pt\"\n",
       " viewBox=\"0.00 0.00 964.50 305.00\" xmlns=\"http://www.w3.org/2000/svg\" xmlns:xlink=\"http://www.w3.org/1999/xlink\">\n",
       "<g id=\"graph0\" class=\"graph\" transform=\"scale(1 1) rotate(0) translate(4 301)\">\n",
       "<title>%3</title>\n",
       "<polygon fill=\"#ffffff\" stroke=\"transparent\" points=\"-4,4 -4,-301 960.5,-301 960.5,4 -4,4\"/>\n",
       "<!-- node_0 -->\n",
       "<g id=\"node1\" class=\"node\">\n",
       "<title>node_0</title>\n",
       "<ellipse fill=\"none\" stroke=\"#000000\" cx=\"469\" cy=\"-279\" rx=\"98.5829\" ry=\"18\"/>\n",
       "<text text-anchor=\"middle\" x=\"469\" y=\"-275.3\" font-family=\"Times,serif\" font-size=\"14.00\" fill=\"#000000\">0, value&gt;0.499975</text>\n",
       "</g>\n",
       "<!-- node_1 -->\n",
       "<g id=\"node2\" class=\"node\">\n",
       "<title>node_1</title>\n",
       "<ellipse fill=\"none\" stroke=\"#000000\" cx=\"362\" cy=\"-192\" rx=\"98.5829\" ry=\"18\"/>\n",
       "<text text-anchor=\"middle\" x=\"362\" y=\"-188.3\" font-family=\"Times,serif\" font-size=\"14.00\" fill=\"#000000\">1, value&gt;0.501677</text>\n",
       "</g>\n",
       "<!-- node_0&#45;&gt;node_1 -->\n",
       "<g id=\"edge7\" class=\"edge\">\n",
       "<title>node_0&#45;&gt;node_1</title>\n",
       "<path fill=\"none\" stroke=\"#000000\" d=\"M447.347,-261.3943C431.2485,-248.3048 409.1013,-230.2973 391.4022,-215.9064\"/>\n",
       "<polygon fill=\"#000000\" stroke=\"#000000\" points=\"393.5878,-213.1726 383.6208,-209.5796 389.1717,-218.6039 393.5878,-213.1726\"/>\n",
       "<text text-anchor=\"middle\" x=\"433\" y=\"-231.8\" font-family=\"Times,serif\" font-size=\"14.00\" fill=\"#000000\">No</text>\n",
       "</g>\n",
       "<!-- node_8 -->\n",
       "<g id=\"node9\" class=\"node\">\n",
       "<title>node_8</title>\n",
       "<ellipse fill=\"none\" stroke=\"#000000\" cx=\"578\" cy=\"-192\" rx=\"98.5829\" ry=\"18\"/>\n",
       "<text text-anchor=\"middle\" x=\"578\" y=\"-188.3\" font-family=\"Times,serif\" font-size=\"14.00\" fill=\"#000000\">0, value&gt;0.660399</text>\n",
       "</g>\n",
       "<!-- node_0&#45;&gt;node_8 -->\n",
       "<g id=\"edge14\" class=\"edge\">\n",
       "<title>node_0&#45;&gt;node_8</title>\n",
       "<path fill=\"none\" stroke=\"#000000\" d=\"M491.0578,-261.3943C507.4572,-248.3048 530.0183,-230.2973 548.0483,-215.9064\"/>\n",
       "<polygon fill=\"#000000\" stroke=\"#000000\" points=\"550.3427,-218.5533 555.975,-209.5796 545.9759,-213.0823 550.3427,-218.5533\"/>\n",
       "<text text-anchor=\"middle\" x=\"543.5\" y=\"-231.8\" font-family=\"Times,serif\" font-size=\"14.00\" fill=\"#000000\">Yes</text>\n",
       "</g>\n",
       "<!-- node_2 -->\n",
       "<g id=\"node3\" class=\"node\">\n",
       "<title>node_2</title>\n",
       "<ellipse fill=\"none\" stroke=\"#000000\" cx=\"146\" cy=\"-105\" rx=\"98.5829\" ry=\"18\"/>\n",
       "<text text-anchor=\"middle\" x=\"146\" y=\"-101.3\" font-family=\"Times,serif\" font-size=\"14.00\" fill=\"#000000\">2, value&gt;0.533522</text>\n",
       "</g>\n",
       "<!-- node_1&#45;&gt;node_2 -->\n",
       "<g id=\"edge3\" class=\"edge\">\n",
       "<title>node_1&#45;&gt;node_2</title>\n",
       "<path fill=\"none\" stroke=\"#000000\" d=\"M321.1181,-175.5337C285.7144,-161.2738 234.3679,-140.5926 196.4223,-125.309\"/>\n",
       "<polygon fill=\"#000000\" stroke=\"#000000\" points=\"197.6652,-122.0364 187.0816,-121.5468 195.0499,-128.5295 197.6652,-122.0364\"/>\n",
       "<text text-anchor=\"middle\" x=\"278\" y=\"-144.8\" font-family=\"Times,serif\" font-size=\"14.00\" fill=\"#000000\">No</text>\n",
       "</g>\n",
       "<!-- node_5 -->\n",
       "<g id=\"node6\" class=\"node\">\n",
       "<title>node_5</title>\n",
       "<ellipse fill=\"none\" stroke=\"#000000\" cx=\"362\" cy=\"-105\" rx=\"98.5829\" ry=\"18\"/>\n",
       "<text text-anchor=\"middle\" x=\"362\" y=\"-101.3\" font-family=\"Times,serif\" font-size=\"14.00\" fill=\"#000000\">2, value&gt;0.236962</text>\n",
       "</g>\n",
       "<!-- node_1&#45;&gt;node_5 -->\n",
       "<g id=\"edge6\" class=\"edge\">\n",
       "<title>node_1&#45;&gt;node_5</title>\n",
       "<path fill=\"none\" stroke=\"#000000\" d=\"M362,-173.9735C362,-162.1918 362,-146.5607 362,-133.1581\"/>\n",
       "<polygon fill=\"#000000\" stroke=\"#000000\" points=\"365.5001,-133.0033 362,-123.0034 358.5001,-133.0034 365.5001,-133.0033\"/>\n",
       "<text text-anchor=\"middle\" x=\"374.5\" y=\"-144.8\" font-family=\"Times,serif\" font-size=\"14.00\" fill=\"#000000\">Yes</text>\n",
       "</g>\n",
       "<!-- leaf_0 -->\n",
       "<g id=\"node4\" class=\"node\">\n",
       "<title>leaf_0</title>\n",
       "<polygon fill=\"none\" stroke=\"#ff0000\" points=\"104,-36 0,-36 0,0 104,0 104,-36\"/>\n",
       "<text text-anchor=\"middle\" x=\"52\" y=\"-14.3\" font-family=\"Times,serif\" font-size=\"14.00\" fill=\"#000000\">val = &#45;0.882</text>\n",
       "</g>\n",
       "<!-- node_2&#45;&gt;leaf_0 -->\n",
       "<g id=\"edge1\" class=\"edge\">\n",
       "<title>node_2&#45;&gt;leaf_0</title>\n",
       "<path fill=\"none\" stroke=\"#000000\" d=\"M126.5231,-86.9735C112.7851,-74.2586 94.2031,-57.0603 79.0312,-43.0183\"/>\n",
       "<polygon fill=\"#000000\" stroke=\"#000000\" points=\"81.1684,-40.2272 71.4519,-36.0034 76.4136,-45.3646 81.1684,-40.2272\"/>\n",
       "<text text-anchor=\"middle\" x=\"116\" y=\"-57.8\" font-family=\"Times,serif\" font-size=\"14.00\" fill=\"#000000\">No</text>\n",
       "</g>\n",
       "<!-- leaf_1 -->\n",
       "<g id=\"node5\" class=\"node\">\n",
       "<title>leaf_1</title>\n",
       "<polygon fill=\"none\" stroke=\"#ff0000\" points=\"221.5,-36 122.5,-36 122.5,0 221.5,0 221.5,-36\"/>\n",
       "<text text-anchor=\"middle\" x=\"172\" y=\"-14.3\" font-family=\"Times,serif\" font-size=\"14.00\" fill=\"#000000\">val = 0.982</text>\n",
       "</g>\n",
       "<!-- node_2&#45;&gt;leaf_1 -->\n",
       "<g id=\"edge2\" class=\"edge\">\n",
       "<title>node_2&#45;&gt;leaf_1</title>\n",
       "<path fill=\"none\" stroke=\"#000000\" d=\"M151.3872,-86.9735C154.9431,-75.0751 159.6722,-59.2508 163.7037,-45.7606\"/>\n",
       "<polygon fill=\"#000000\" stroke=\"#000000\" points=\"167.1097,-46.5869 166.6197,-36.0034 160.4028,-44.5825 167.1097,-46.5869\"/>\n",
       "<text text-anchor=\"middle\" x=\"173.5\" y=\"-57.8\" font-family=\"Times,serif\" font-size=\"14.00\" fill=\"#000000\">Yes</text>\n",
       "</g>\n",
       "<!-- leaf_2 -->\n",
       "<g id=\"node7\" class=\"node\">\n",
       "<title>leaf_2</title>\n",
       "<polygon fill=\"none\" stroke=\"#ff0000\" points=\"357,-36 253,-36 253,0 357,0 357,-36\"/>\n",
       "<text text-anchor=\"middle\" x=\"305\" y=\"-14.3\" font-family=\"Times,serif\" font-size=\"14.00\" fill=\"#000000\">val = &#45;0.976</text>\n",
       "</g>\n",
       "<!-- node_5&#45;&gt;leaf_2 -->\n",
       "<g id=\"edge4\" class=\"edge\">\n",
       "<title>node_5&#45;&gt;leaf_2</title>\n",
       "<path fill=\"none\" stroke=\"#000000\" d=\"M350.1896,-86.9735C342.1648,-74.7252 331.4143,-58.3165 322.4122,-44.5766\"/>\n",
       "<polygon fill=\"#000000\" stroke=\"#000000\" points=\"325.2032,-42.4499 316.7953,-36.0034 319.348,-46.2861 325.2032,-42.4499\"/>\n",
       "<text text-anchor=\"middle\" x=\"348\" y=\"-57.8\" font-family=\"Times,serif\" font-size=\"14.00\" fill=\"#000000\">No</text>\n",
       "</g>\n",
       "<!-- leaf_3 -->\n",
       "<g id=\"node8\" class=\"node\">\n",
       "<title>leaf_3</title>\n",
       "<polygon fill=\"none\" stroke=\"#ff0000\" points=\"479,-36 375,-36 375,0 479,0 479,-36\"/>\n",
       "<text text-anchor=\"middle\" x=\"427\" y=\"-14.3\" font-family=\"Times,serif\" font-size=\"14.00\" fill=\"#000000\">val = &#45;0.992</text>\n",
       "</g>\n",
       "<!-- node_5&#45;&gt;leaf_3 -->\n",
       "<g id=\"edge5\" class=\"edge\">\n",
       "<title>node_5&#45;&gt;leaf_3</title>\n",
       "<path fill=\"none\" stroke=\"#000000\" d=\"M375.468,-86.9735C384.7063,-74.6085 397.1123,-58.0036 407.4367,-44.1847\"/>\n",
       "<polygon fill=\"#000000\" stroke=\"#000000\" points=\"410.3678,-46.1093 413.5492,-36.0034 404.76,-41.9196 410.3678,-46.1093\"/>\n",
       "<text text-anchor=\"middle\" x=\"411.5\" y=\"-57.8\" font-family=\"Times,serif\" font-size=\"14.00\" fill=\"#000000\">Yes</text>\n",
       "</g>\n",
       "<!-- node_9 -->\n",
       "<g id=\"node10\" class=\"node\">\n",
       "<title>node_9</title>\n",
       "<ellipse fill=\"none\" stroke=\"#000000\" cx=\"578\" cy=\"-105\" rx=\"98.5829\" ry=\"18\"/>\n",
       "<text text-anchor=\"middle\" x=\"578\" y=\"-101.3\" font-family=\"Times,serif\" font-size=\"14.00\" fill=\"#000000\">2, value&gt;0.734442</text>\n",
       "</g>\n",
       "<!-- node_8&#45;&gt;node_9 -->\n",
       "<g id=\"edge10\" class=\"edge\">\n",
       "<title>node_8&#45;&gt;node_9</title>\n",
       "<path fill=\"none\" stroke=\"#000000\" d=\"M578,-173.9735C578,-162.1918 578,-146.5607 578,-133.1581\"/>\n",
       "<polygon fill=\"#000000\" stroke=\"#000000\" points=\"581.5001,-133.0033 578,-123.0034 574.5001,-133.0034 581.5001,-133.0033\"/>\n",
       "<text text-anchor=\"middle\" x=\"589\" y=\"-144.8\" font-family=\"Times,serif\" font-size=\"14.00\" fill=\"#000000\">No</text>\n",
       "</g>\n",
       "<!-- node_12 -->\n",
       "<g id=\"node13\" class=\"node\">\n",
       "<title>node_12</title>\n",
       "<ellipse fill=\"none\" stroke=\"#000000\" cx=\"794\" cy=\"-105\" rx=\"98.5829\" ry=\"18\"/>\n",
       "<text text-anchor=\"middle\" x=\"794\" y=\"-101.3\" font-family=\"Times,serif\" font-size=\"14.00\" fill=\"#000000\">0, value&gt;0.246035</text>\n",
       "</g>\n",
       "<!-- node_8&#45;&gt;node_12 -->\n",
       "<g id=\"edge13\" class=\"edge\">\n",
       "<title>node_8&#45;&gt;node_12</title>\n",
       "<path fill=\"none\" stroke=\"#000000\" d=\"M618.8819,-175.5337C654.2856,-161.2738 705.6321,-140.5926 743.5777,-125.309\"/>\n",
       "<polygon fill=\"#000000\" stroke=\"#000000\" points=\"744.9501,-128.5295 752.9184,-121.5468 742.3348,-122.0364 744.9501,-128.5295\"/>\n",
       "<text text-anchor=\"middle\" x=\"711.5\" y=\"-144.8\" font-family=\"Times,serif\" font-size=\"14.00\" fill=\"#000000\">Yes</text>\n",
       "</g>\n",
       "<!-- leaf_4 -->\n",
       "<g id=\"node11\" class=\"node\">\n",
       "<title>leaf_4</title>\n",
       "<polygon fill=\"none\" stroke=\"#ff0000\" points=\"602.5,-36 503.5,-36 503.5,0 602.5,0 602.5,-36\"/>\n",
       "<text text-anchor=\"middle\" x=\"553\" y=\"-14.3\" font-family=\"Times,serif\" font-size=\"14.00\" fill=\"#000000\">val = 0.988</text>\n",
       "</g>\n",
       "<!-- node_9&#45;&gt;leaf_4 -->\n",
       "<g id=\"edge8\" class=\"edge\">\n",
       "<title>node_9&#45;&gt;leaf_4</title>\n",
       "<path fill=\"none\" stroke=\"#000000\" d=\"M572.82,-86.9735C569.4009,-75.0751 564.8537,-59.2508 560.9772,-45.7606\"/>\n",
       "<polygon fill=\"#000000\" stroke=\"#000000\" points=\"564.2991,-44.6478 558.1734,-36.0034 557.5714,-46.5811 564.2991,-44.6478\"/>\n",
       "<text text-anchor=\"middle\" x=\"578\" y=\"-57.8\" font-family=\"Times,serif\" font-size=\"14.00\" fill=\"#000000\">No</text>\n",
       "</g>\n",
       "<!-- leaf_5 -->\n",
       "<g id=\"node12\" class=\"node\">\n",
       "<title>leaf_5</title>\n",
       "<polygon fill=\"none\" stroke=\"#ff0000\" points=\"719.5,-36 620.5,-36 620.5,0 719.5,0 719.5,-36\"/>\n",
       "<text text-anchor=\"middle\" x=\"670\" y=\"-14.3\" font-family=\"Times,serif\" font-size=\"14.00\" fill=\"#000000\">val = 0.969</text>\n",
       "</g>\n",
       "<!-- node_9&#45;&gt;leaf_5 -->\n",
       "<g id=\"edge9\" class=\"edge\">\n",
       "<title>node_9&#45;&gt;leaf_5</title>\n",
       "<path fill=\"none\" stroke=\"#000000\" d=\"M597.0625,-86.9735C610.5082,-74.2586 628.6949,-57.0603 643.5439,-43.0183\"/>\n",
       "<polygon fill=\"#000000\" stroke=\"#000000\" points=\"646.101,-45.4173 650.962,-36.0034 641.2914,-40.3312 646.101,-45.4173\"/>\n",
       "<text text-anchor=\"middle\" x=\"642.5\" y=\"-57.8\" font-family=\"Times,serif\" font-size=\"14.00\" fill=\"#000000\">Yes</text>\n",
       "</g>\n",
       "<!-- leaf_6 -->\n",
       "<g id=\"node14\" class=\"node\">\n",
       "<title>leaf_6</title>\n",
       "<polygon fill=\"none\" stroke=\"#ff0000\" points=\"839.5,-36 740.5,-36 740.5,0 839.5,0 839.5,-36\"/>\n",
       "<text text-anchor=\"middle\" x=\"790\" y=\"-14.3\" font-family=\"Times,serif\" font-size=\"14.00\" fill=\"#000000\">val = 0.000</text>\n",
       "</g>\n",
       "<!-- node_12&#45;&gt;leaf_6 -->\n",
       "<g id=\"edge11\" class=\"edge\">\n",
       "<title>node_12&#45;&gt;leaf_6</title>\n",
       "<path fill=\"none\" stroke=\"#000000\" d=\"M793.1712,-86.9735C792.6295,-75.1918 791.9108,-59.5607 791.2946,-46.1581\"/>\n",
       "<polygon fill=\"#000000\" stroke=\"#000000\" points=\"794.7834,-45.832 790.8277,-36.0034 787.7908,-46.1536 794.7834,-45.832\"/>\n",
       "<text text-anchor=\"middle\" x=\"804\" y=\"-57.8\" font-family=\"Times,serif\" font-size=\"14.00\" fill=\"#000000\">No</text>\n",
       "</g>\n",
       "<!-- leaf_7 -->\n",
       "<g id=\"node15\" class=\"node\">\n",
       "<title>leaf_7</title>\n",
       "<polygon fill=\"none\" stroke=\"#ff0000\" points=\"956.5,-36 857.5,-36 857.5,0 956.5,0 956.5,-36\"/>\n",
       "<text text-anchor=\"middle\" x=\"907\" y=\"-14.3\" font-family=\"Times,serif\" font-size=\"14.00\" fill=\"#000000\">val = 0.996</text>\n",
       "</g>\n",
       "<!-- node_12&#45;&gt;leaf_7 -->\n",
       "<g id=\"edge12\" class=\"edge\">\n",
       "<title>node_12&#45;&gt;leaf_7</title>\n",
       "<path fill=\"none\" stroke=\"#000000\" d=\"M816.8672,-87.3943C833.7203,-74.4189 856.8505,-56.6107 875.4595,-42.2834\"/>\n",
       "<polygon fill=\"#000000\" stroke=\"#000000\" points=\"877.6004,-45.0523 883.3889,-36.1785 873.3301,-39.5057 877.6004,-45.0523\"/>\n",
       "<text text-anchor=\"middle\" x=\"870.5\" y=\"-57.8\" font-family=\"Times,serif\" font-size=\"14.00\" fill=\"#000000\">Yes</text>\n",
       "</g>\n",
       "</g>\n",
       "</svg>\n"
      ],
      "text/plain": [
       "<graphviz.dot.Digraph at 0x7f2485e1b610>"
      ]
     },
     "execution_count": 10,
     "metadata": {},
     "output_type": "execute_result"
    }
   ],
   "source": [
    "clf_wo_penalties.plot_tree(tree_idx=0, pool=small_pool)"
   ]
  },
  {
   "cell_type": "markdown",
   "metadata": {},
   "source": [
    "We can see that the model without feature penalties uses some extra splits except three required ones, including splits with \"costly features\"."
   ]
  },
  {
   "cell_type": "code",
   "execution_count": 11,
   "metadata": {},
   "outputs": [],
   "source": [
    "def get_penalties(n_features, base=1.02):\n",
    "    return list([base**lvl for lvl in range(n_features)])"
   ]
  },
  {
   "cell_type": "code",
   "execution_count": 12,
   "metadata": {},
   "outputs": [],
   "source": [
    "clf_with_penalties_small = catboost.CatBoostClassifier(\n",
    "    **common_params,\n",
    "    depth=n_features_small,\n",
    "    iterations=iterations_count,\n",
    "    penalties_coefficient=0.001,\n",
    "    per_object_feature_penalties=get_penalties(n_features_small)\n",
    ")"
   ]
  },
  {
   "cell_type": "code",
   "execution_count": 13,
   "metadata": {},
   "outputs": [
    {
     "name": "stdout",
     "output_type": "stream",
     "text": [
      "Learning rate set to 0.5\n",
      "0:\tlearn: 0.3261432\ttotal: 19.8ms\tremaining: 178ms\n",
      "1:\tlearn: 0.1822131\ttotal: 39.1ms\tremaining: 156ms\n",
      "2:\tlearn: 0.1060415\ttotal: 59ms\tremaining: 138ms\n",
      "3:\tlearn: 0.0644842\ttotal: 75.9ms\tremaining: 114ms\n",
      "4:\tlearn: 0.0398788\ttotal: 91.4ms\tremaining: 91.4ms\n",
      "5:\tlearn: 0.0250120\ttotal: 109ms\tremaining: 72.7ms\n",
      "6:\tlearn: 0.0166103\ttotal: 128ms\tremaining: 54.7ms\n",
      "7:\tlearn: 0.0109570\ttotal: 144ms\tremaining: 36.1ms\n",
      "8:\tlearn: 0.0077417\ttotal: 161ms\tremaining: 17.9ms\n",
      "9:\tlearn: 0.0055647\ttotal: 180ms\tremaining: 0us\n"
     ]
    },
    {
     "data": {
      "text/plain": [
       "<catboost.core.CatBoostClassifier at 0x7f2453968150>"
      ]
     },
     "execution_count": 13,
     "metadata": {},
     "output_type": "execute_result"
    }
   ],
   "source": [
    "clf_with_penalties_small.fit(small_pool)"
   ]
  },
  {
   "cell_type": "markdown",
   "metadata": {},
   "source": [
    "We can see that the model with penalties got slightly better results."
   ]
  },
  {
   "cell_type": "code",
   "execution_count": 14,
   "metadata": {
    "scrolled": false
   },
   "outputs": [
    {
     "data": {
      "image/svg+xml": [
       "<?xml version=\"1.0\" encoding=\"UTF-8\" standalone=\"no\"?>\n",
       "<!DOCTYPE svg PUBLIC \"-//W3C//DTD SVG 1.1//EN\"\n",
       " \"http://www.w3.org/Graphics/SVG/1.1/DTD/svg11.dtd\">\n",
       "<!-- Generated by graphviz version 2.40.1 (20161225.0304)\n",
       " -->\n",
       "<!-- Title: %3 Pages: 1 -->\n",
       "<svg width=\"696pt\" height=\"305pt\"\n",
       " viewBox=\"0.00 0.00 695.50 305.00\" xmlns=\"http://www.w3.org/2000/svg\" xmlns:xlink=\"http://www.w3.org/1999/xlink\">\n",
       "<g id=\"graph0\" class=\"graph\" transform=\"scale(1 1) rotate(0) translate(4 301)\">\n",
       "<title>%3</title>\n",
       "<polygon fill=\"#ffffff\" stroke=\"transparent\" points=\"-4,4 -4,-301 691.5,-301 691.5,4 -4,4\"/>\n",
       "<!-- node_0 -->\n",
       "<g id=\"node1\" class=\"node\">\n",
       "<title>node_0</title>\n",
       "<ellipse fill=\"none\" stroke=\"#000000\" cx=\"340\" cy=\"-279\" rx=\"98.5829\" ry=\"18\"/>\n",
       "<text text-anchor=\"middle\" x=\"340\" y=\"-275.3\" font-family=\"Times,serif\" font-size=\"14.00\" fill=\"#000000\">0, value&gt;0.499975</text>\n",
       "</g>\n",
       "<!-- node_1 -->\n",
       "<g id=\"node2\" class=\"node\">\n",
       "<title>node_1</title>\n",
       "<ellipse fill=\"none\" stroke=\"#000000\" cx=\"233\" cy=\"-192\" rx=\"98.5829\" ry=\"18\"/>\n",
       "<text text-anchor=\"middle\" x=\"233\" y=\"-188.3\" font-family=\"Times,serif\" font-size=\"14.00\" fill=\"#000000\">1, value&gt;0.501677</text>\n",
       "</g>\n",
       "<!-- node_0&#45;&gt;node_1 -->\n",
       "<g id=\"edge5\" class=\"edge\">\n",
       "<title>node_0&#45;&gt;node_1</title>\n",
       "<path fill=\"none\" stroke=\"#000000\" d=\"M318.347,-261.3943C302.2485,-248.3048 280.1013,-230.2973 262.4022,-215.9064\"/>\n",
       "<polygon fill=\"#000000\" stroke=\"#000000\" points=\"264.5878,-213.1726 254.6208,-209.5796 260.1717,-218.6039 264.5878,-213.1726\"/>\n",
       "<text text-anchor=\"middle\" x=\"304\" y=\"-231.8\" font-family=\"Times,serif\" font-size=\"14.00\" fill=\"#000000\">No</text>\n",
       "</g>\n",
       "<!-- node_5 -->\n",
       "<g id=\"node7\" class=\"node\">\n",
       "<title>node_5</title>\n",
       "<ellipse fill=\"none\" stroke=\"#000000\" cx=\"449\" cy=\"-192\" rx=\"98.5829\" ry=\"18\"/>\n",
       "<text text-anchor=\"middle\" x=\"449\" y=\"-188.3\" font-family=\"Times,serif\" font-size=\"14.00\" fill=\"#000000\">0, value&gt;0.660399</text>\n",
       "</g>\n",
       "<!-- node_0&#45;&gt;node_5 -->\n",
       "<g id=\"edge10\" class=\"edge\">\n",
       "<title>node_0&#45;&gt;node_5</title>\n",
       "<path fill=\"none\" stroke=\"#000000\" d=\"M362.0578,-261.3943C378.4572,-248.3048 401.0183,-230.2973 419.0483,-215.9064\"/>\n",
       "<polygon fill=\"#000000\" stroke=\"#000000\" points=\"421.3427,-218.5533 426.975,-209.5796 416.9759,-213.0823 421.3427,-218.5533\"/>\n",
       "<text text-anchor=\"middle\" x=\"414.5\" y=\"-231.8\" font-family=\"Times,serif\" font-size=\"14.00\" fill=\"#000000\">Yes</text>\n",
       "</g>\n",
       "<!-- node_2 -->\n",
       "<g id=\"node3\" class=\"node\">\n",
       "<title>node_2</title>\n",
       "<ellipse fill=\"none\" stroke=\"#000000\" cx=\"112\" cy=\"-105\" rx=\"98.5829\" ry=\"18\"/>\n",
       "<text text-anchor=\"middle\" x=\"112\" y=\"-101.3\" font-family=\"Times,serif\" font-size=\"14.00\" fill=\"#000000\">2, value&gt;0.533522</text>\n",
       "</g>\n",
       "<!-- node_1&#45;&gt;node_2 -->\n",
       "<g id=\"edge3\" class=\"edge\">\n",
       "<title>node_1&#45;&gt;node_2</title>\n",
       "<path fill=\"none\" stroke=\"#000000\" d=\"M208.5138,-174.3943C190.145,-161.1869 164.8122,-142.9724 144.7095,-128.5184\"/>\n",
       "<polygon fill=\"#000000\" stroke=\"#000000\" points=\"146.6121,-125.5756 136.4497,-122.5796 142.5257,-131.2591 146.6121,-125.5756\"/>\n",
       "<text text-anchor=\"middle\" x=\"191\" y=\"-144.8\" font-family=\"Times,serif\" font-size=\"14.00\" fill=\"#000000\">No</text>\n",
       "</g>\n",
       "<!-- leaf_0 -->\n",
       "<g id=\"node6\" class=\"node\">\n",
       "<title>leaf_0</title>\n",
       "<polygon fill=\"none\" stroke=\"#ff0000\" points=\"333,-123 229,-123 229,-87 333,-87 333,-123\"/>\n",
       "<text text-anchor=\"middle\" x=\"281\" y=\"-101.3\" font-family=\"Times,serif\" font-size=\"14.00\" fill=\"#000000\">val = &#45;0.994</text>\n",
       "</g>\n",
       "<!-- node_1&#45;&gt;leaf_0 -->\n",
       "<g id=\"edge4\" class=\"edge\">\n",
       "<title>node_1&#45;&gt;leaf_0</title>\n",
       "<path fill=\"none\" stroke=\"#000000\" d=\"M242.9456,-173.9735C249.639,-161.8418 258.5842,-145.6287 266.1201,-131.9698\"/>\n",
       "<polygon fill=\"#000000\" stroke=\"#000000\" points=\"269.3008,-133.4499 271.0671,-123.0034 263.1718,-130.0684 269.3008,-133.4499\"/>\n",
       "<text text-anchor=\"middle\" x=\"272.5\" y=\"-144.8\" font-family=\"Times,serif\" font-size=\"14.00\" fill=\"#000000\">Yes</text>\n",
       "</g>\n",
       "<!-- leaf_1 -->\n",
       "<g id=\"node4\" class=\"node\">\n",
       "<title>leaf_1</title>\n",
       "<polygon fill=\"none\" stroke=\"#ff0000\" points=\"104,-36 0,-36 0,0 104,0 104,-36\"/>\n",
       "<text text-anchor=\"middle\" x=\"52\" y=\"-14.3\" font-family=\"Times,serif\" font-size=\"14.00\" fill=\"#000000\">val = &#45;0.882</text>\n",
       "</g>\n",
       "<!-- node_2&#45;&gt;leaf_1 -->\n",
       "<g id=\"edge1\" class=\"edge\">\n",
       "<title>node_2&#45;&gt;leaf_1</title>\n",
       "<path fill=\"none\" stroke=\"#000000\" d=\"M99.568,-86.9735C91.1208,-74.7252 79.8045,-58.3165 70.3287,-44.5766\"/>\n",
       "<polygon fill=\"#000000\" stroke=\"#000000\" points=\"72.9747,-42.2484 64.4161,-36.0034 67.2122,-46.2226 72.9747,-42.2484\"/>\n",
       "<text text-anchor=\"middle\" x=\"97\" y=\"-57.8\" font-family=\"Times,serif\" font-size=\"14.00\" fill=\"#000000\">No</text>\n",
       "</g>\n",
       "<!-- leaf_2 -->\n",
       "<g id=\"node5\" class=\"node\">\n",
       "<title>leaf_2</title>\n",
       "<polygon fill=\"none\" stroke=\"#ff0000\" points=\"221.5,-36 122.5,-36 122.5,0 221.5,0 221.5,-36\"/>\n",
       "<text text-anchor=\"middle\" x=\"172\" y=\"-14.3\" font-family=\"Times,serif\" font-size=\"14.00\" fill=\"#000000\">val = 0.982</text>\n",
       "</g>\n",
       "<!-- node_2&#45;&gt;leaf_2 -->\n",
       "<g id=\"edge2\" class=\"edge\">\n",
       "<title>node_2&#45;&gt;leaf_2</title>\n",
       "<path fill=\"none\" stroke=\"#000000\" d=\"M124.432,-86.9735C132.8792,-74.7252 144.1955,-58.3165 153.6713,-44.5766\"/>\n",
       "<polygon fill=\"#000000\" stroke=\"#000000\" points=\"156.7878,-46.2226 159.5839,-36.0034 151.0253,-42.2484 156.7878,-46.2226\"/>\n",
       "<text text-anchor=\"middle\" x=\"158.5\" y=\"-57.8\" font-family=\"Times,serif\" font-size=\"14.00\" fill=\"#000000\">Yes</text>\n",
       "</g>\n",
       "<!-- leaf_3 -->\n",
       "<g id=\"node8\" class=\"node\">\n",
       "<title>leaf_3</title>\n",
       "<polygon fill=\"none\" stroke=\"#ff0000\" points=\"463.5,-123 364.5,-123 364.5,-87 463.5,-87 463.5,-123\"/>\n",
       "<text text-anchor=\"middle\" x=\"414\" y=\"-101.3\" font-family=\"Times,serif\" font-size=\"14.00\" fill=\"#000000\">val = 0.991</text>\n",
       "</g>\n",
       "<!-- node_5&#45;&gt;leaf_3 -->\n",
       "<g id=\"edge6\" class=\"edge\">\n",
       "<title>node_5&#45;&gt;leaf_3</title>\n",
       "<path fill=\"none\" stroke=\"#000000\" d=\"M441.748,-173.9735C436.9143,-161.9585 430.4702,-145.9401 425.0087,-132.3646\"/>\n",
       "<polygon fill=\"#000000\" stroke=\"#000000\" points=\"428.2222,-130.9744 421.2427,-123.0034 421.728,-133.5871 428.2222,-130.9744\"/>\n",
       "<text text-anchor=\"middle\" x=\"445\" y=\"-144.8\" font-family=\"Times,serif\" font-size=\"14.00\" fill=\"#000000\">No</text>\n",
       "</g>\n",
       "<!-- node_6 -->\n",
       "<g id=\"node9\" class=\"node\">\n",
       "<title>node_6</title>\n",
       "<ellipse fill=\"none\" stroke=\"#000000\" cx=\"580\" cy=\"-105\" rx=\"98.5829\" ry=\"18\"/>\n",
       "<text text-anchor=\"middle\" x=\"580\" y=\"-101.3\" font-family=\"Times,serif\" font-size=\"14.00\" fill=\"#000000\">0, value&gt;0.246035</text>\n",
       "</g>\n",
       "<!-- node_5&#45;&gt;node_6 -->\n",
       "<g id=\"edge9\" class=\"edge\">\n",
       "<title>node_5&#45;&gt;node_6</title>\n",
       "<path fill=\"none\" stroke=\"#000000\" d=\"M475.195,-174.6033C495.3654,-161.2077 523.427,-142.5714 545.4376,-127.9536\"/>\n",
       "<polygon fill=\"#000000\" stroke=\"#000000\" points=\"547.4565,-130.8145 553.8504,-122.3665 543.5838,-124.9833 547.4565,-130.8145\"/>\n",
       "<text text-anchor=\"middle\" x=\"535.5\" y=\"-144.8\" font-family=\"Times,serif\" font-size=\"14.00\" fill=\"#000000\">Yes</text>\n",
       "</g>\n",
       "<!-- leaf_4 -->\n",
       "<g id=\"node10\" class=\"node\">\n",
       "<title>leaf_4</title>\n",
       "<polygon fill=\"none\" stroke=\"#ff0000\" points=\"570.5,-36 471.5,-36 471.5,0 570.5,0 570.5,-36\"/>\n",
       "<text text-anchor=\"middle\" x=\"521\" y=\"-14.3\" font-family=\"Times,serif\" font-size=\"14.00\" fill=\"#000000\">val = 0.000</text>\n",
       "</g>\n",
       "<!-- node_6&#45;&gt;leaf_4 -->\n",
       "<g id=\"edge7\" class=\"edge\">\n",
       "<title>node_6&#45;&gt;leaf_4</title>\n",
       "<path fill=\"none\" stroke=\"#000000\" d=\"M567.7752,-86.9735C559.4688,-74.7252 548.3411,-58.3165 539.0232,-44.5766\"/>\n",
       "<polygon fill=\"#000000\" stroke=\"#000000\" points=\"541.7186,-42.3153 533.2092,-36.0034 535.9252,-46.2442 541.7186,-42.3153\"/>\n",
       "<text text-anchor=\"middle\" x=\"566\" y=\"-57.8\" font-family=\"Times,serif\" font-size=\"14.00\" fill=\"#000000\">No</text>\n",
       "</g>\n",
       "<!-- leaf_5 -->\n",
       "<g id=\"node11\" class=\"node\">\n",
       "<title>leaf_5</title>\n",
       "<polygon fill=\"none\" stroke=\"#ff0000\" points=\"687.5,-36 588.5,-36 588.5,0 687.5,0 687.5,-36\"/>\n",
       "<text text-anchor=\"middle\" x=\"638\" y=\"-14.3\" font-family=\"Times,serif\" font-size=\"14.00\" fill=\"#000000\">val = 0.996</text>\n",
       "</g>\n",
       "<!-- node_6&#45;&gt;leaf_5 -->\n",
       "<g id=\"edge8\" class=\"edge\">\n",
       "<title>node_6&#45;&gt;leaf_5</title>\n",
       "<path fill=\"none\" stroke=\"#000000\" d=\"M592.0176,-86.9735C600.1832,-74.7252 611.1223,-58.3165 620.2823,-44.5766\"/>\n",
       "<polygon fill=\"#000000\" stroke=\"#000000\" points=\"623.3629,-46.2653 625.9978,-36.0034 617.5385,-42.3824 623.3629,-46.2653\"/>\n",
       "<text text-anchor=\"middle\" x=\"624.5\" y=\"-57.8\" font-family=\"Times,serif\" font-size=\"14.00\" fill=\"#000000\">Yes</text>\n",
       "</g>\n",
       "</g>\n",
       "</svg>\n"
      ],
      "text/plain": [
       "<graphviz.dot.Digraph at 0x7f2453974290>"
      ]
     },
     "execution_count": 14,
     "metadata": {},
     "output_type": "execute_result"
    }
   ],
   "source": [
    "clf_with_penalties_small.plot_tree(tree_idx=0, pool=small_pool)"
   ]
  },
  {
   "cell_type": "markdown",
   "metadata": {},
   "source": [
    "We can see that model with penalties doesn't have unnecessary splits with \"costly\" features 1 and 2."
   ]
  },
  {
   "cell_type": "markdown",
   "metadata": {},
   "source": [
    "**Note**: Too low feature penalties may have no effect on model while too big feature penalties may significantly decrease model quality. Be careful to use it!"
   ]
  },
  {
   "cell_type": "markdown",
   "metadata": {},
   "source": [
    "LightGBM also supports feature penalties, although we couldn't find an improving penalties parameters combination. We provide here a default algorithm work."
   ]
  },
  {
   "cell_type": "code",
   "execution_count": 15,
   "metadata": {},
   "outputs": [],
   "source": [
    "lgb_param={\n",
    "    'random_state': seed,\n",
    "    'metric': 'binary_logloss',\n",
    "    'n_estimators': iterations_count,\n",
    "}"
   ]
  },
  {
   "cell_type": "code",
   "execution_count": 16,
   "metadata": {},
   "outputs": [
    {
     "name": "stdout",
     "output_type": "stream",
     "text": [
      "[1]\tvalid_0's binary_logloss: 0.566796\n",
      "[2]\tvalid_0's binary_logloss: 0.491112\n",
      "[3]\tvalid_0's binary_logloss: 0.428904\n",
      "[4]\tvalid_0's binary_logloss: 0.376786\n",
      "[5]\tvalid_0's binary_logloss: 0.332483\n",
      "[6]\tvalid_0's binary_logloss: 0.294491\n",
      "[7]\tvalid_0's binary_logloss: 0.261591\n",
      "[8]\tvalid_0's binary_logloss: 0.232979\n",
      "[9]\tvalid_0's binary_logloss: 0.207904\n",
      "[10]\tvalid_0's binary_logloss: 0.185897\n"
     ]
    },
    {
     "data": {
      "text/plain": [
       "LGBMClassifier(boosting_type='gbdt', class_weight=None, colsample_bytree=1.0,\n",
       "               importance_type='split', learning_rate=0.1, max_depth=3,\n",
       "               metric='binary_logloss', min_child_samples=20,\n",
       "               min_child_weight=0.001, min_split_gain=0.0, n_estimators=10,\n",
       "               n_jobs=-1, num_leaves=31, objective=None, random_state=33,\n",
       "               reg_alpha=0.0, reg_lambda=0.0, silent=True, subsample=1.0,\n",
       "               subsample_for_bin=200000, subsample_freq=0)"
      ]
     },
     "execution_count": 16,
     "metadata": {},
     "output_type": "execute_result"
    }
   ],
   "source": [
    "lgb_clf_wo_penalties = lightgbm.LGBMClassifier(max_depth=n_features_small, **lgb_param)\n",
    "lgb_clf_wo_penalties.fit(small_pool.get_features(), small_pool.get_label(), verbose=1, eval_set=[(small_pool.get_features(), small_pool.get_label())])"
   ]
  },
  {
   "cell_type": "markdown",
   "metadata": {},
   "source": [
    "We can see that LightGBM model with corresponding parameters gave worse results."
   ]
  },
  {
   "cell_type": "markdown",
   "metadata": {},
   "source": [
    "### Method performance."
   ]
  },
  {
   "cell_type": "code",
   "execution_count": 17,
   "metadata": {},
   "outputs": [],
   "source": [
    "n_objects_big=2**17\n",
    "n_features_big=5"
   ]
  },
  {
   "cell_type": "code",
   "execution_count": 18,
   "metadata": {},
   "outputs": [],
   "source": [
    "big_pool = generate_dataset(n_objects_big, n_features_big)"
   ]
  },
  {
   "cell_type": "code",
   "execution_count": 19,
   "metadata": {},
   "outputs": [],
   "source": [
    "clf_with_penalties_big = catboost.CatBoostClassifier(\n",
    "    **common_params,\n",
    "    depth=n_features_big,\n",
    "    iterations=iterations_count,\n",
    "    penalties_coefficient=0.001,\n",
    "    per_object_feature_penalties=get_penalties(n_features_big)\n",
    ")"
   ]
  },
  {
   "cell_type": "code",
   "execution_count": 20,
   "metadata": {},
   "outputs": [
    {
     "name": "stdout",
     "output_type": "stream",
     "text": [
      "1.47 s ± 9.64 ms per loop (mean ± std. dev. of 5 runs, 1 loop each)\n"
     ]
    }
   ],
   "source": [
    "%timeit -r 5 clf_wo_penalties.fit(big_pool, verbose=False)"
   ]
  },
  {
   "cell_type": "code",
   "execution_count": 21,
   "metadata": {},
   "outputs": [
    {
     "name": "stdout",
     "output_type": "stream",
     "text": [
      "1.45 s ± 11.4 ms per loop (mean ± std. dev. of 5 runs, 1 loop each)\n"
     ]
    }
   ],
   "source": [
    "%timeit -r 5 clf_with_penalties_big.fit(big_pool, verbose=False)"
   ]
  },
  {
   "cell_type": "code",
   "execution_count": 22,
   "metadata": {},
   "outputs": [],
   "source": [
    "big_pool_features = big_pool.get_features()\n",
    "big_pool_label = big_pool.get_label()"
   ]
  },
  {
   "cell_type": "code",
   "execution_count": 23,
   "metadata": {},
   "outputs": [
    {
     "name": "stdout",
     "output_type": "stream",
     "text": [
      "152 ms ± 2.08 ms per loop (mean ± std. dev. of 5 runs, 10 loops each)\n"
     ]
    }
   ],
   "source": [
    "%timeit -r 5 lgb_clf_wo_penalties.fit(big_pool_features, big_pool_label)"
   ]
  },
  {
   "cell_type": "markdown",
   "metadata": {},
   "source": [
    "We can see that catboost models with penalties and without them have similar performance while lightGBM model is learning faster."
   ]
  },
  {
   "cell_type": "code",
   "execution_count": 24,
   "metadata": {},
   "outputs": [
    {
     "name": "stdout",
     "output_type": "stream",
     "text": [
      "62.2 ms ± 1.53 ms per loop (mean ± std. dev. of 5 runs, 10 loops each)\n"
     ]
    }
   ],
   "source": [
    "%timeit -r 5 clf_wo_penalties.predict(big_pool)"
   ]
  },
  {
   "cell_type": "code",
   "execution_count": 25,
   "metadata": {},
   "outputs": [
    {
     "name": "stdout",
     "output_type": "stream",
     "text": [
      "59.4 ms ± 352 µs per loop (mean ± std. dev. of 5 runs, 10 loops each)\n"
     ]
    }
   ],
   "source": [
    "%timeit -r 5 clf_with_penalties_big.predict(big_pool)"
   ]
  },
  {
   "cell_type": "code",
   "execution_count": 26,
   "metadata": {
    "scrolled": true
   },
   "outputs": [
    {
     "name": "stdout",
     "output_type": "stream",
     "text": [
      "25.5 ms ± 2.79 ms per loop (mean ± std. dev. of 5 runs, 10 loops each)\n"
     ]
    }
   ],
   "source": [
    "%timeit -r 5 lgb_clf_wo_penalties.predict(big_pool_features)"
   ]
  },
  {
   "cell_type": "markdown",
   "metadata": {},
   "source": [
    "We can see that applying of catboost models with penalties and without them have similar performance while lightGBM model is applying faster."
   ]
  },
  {
   "cell_type": "markdown",
   "metadata": {},
   "source": [
    "Right now there is no interface in catboost or lightGBM to provide features by request. Although there is a possibility to build low expected depth trees with lossguide growing policy."
   ]
  }
 ],
 "metadata": {
  "kernelspec": {
   "display_name": "Python 3",
   "language": "python",
   "name": "python3"
  },
  "language_info": {
   "codemirror_mode": {
    "name": "ipython",
    "version": 3
   },
   "file_extension": ".py",
   "mimetype": "text/x-python",
   "name": "python",
   "nbconvert_exporter": "python",
   "pygments_lexer": "ipython3",
   "version": "3.7.7"
  }
 },
 "nbformat": 4,
 "nbformat_minor": 2
}
